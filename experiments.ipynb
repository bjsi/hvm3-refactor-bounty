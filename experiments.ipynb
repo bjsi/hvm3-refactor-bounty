{
 "cells": [
  {
   "cell_type": "code",
   "execution_count": 7,
   "metadata": {},
   "outputs": [
    {
     "name": "stdout",
     "output_type": "stream",
     "text": [
      "Example({'task': 'make CTRs store only the CID in the Lab field, and move the arity to a global static object in C', 'strongly_related_symbols': ['Book'], 'symbols': ['0: ATerm', '1: Bin', '2: Book'], 'symbol_explanations': '0: ATerm: The `ATerm` type, defined as `_Atomic(Term)`, represents a 64-bit unsigned integer that acts as a node in the computational graph within the HVM3 runtime. It is stored in the global heap (`HVM.heap`), which is shared across multiple threads during parallel execution. The atomic nature of `ATerm` ensures thread-safe updates to the heap, preventing data corruption or inconsistent states during concurrent operations like memory allocation (`allocNode`) or term manipulation (`set`, `got`). This atomicity is crucial for maintaining the integrity of the computational graph while enabling efficient parallel computation in the HVM3 runtime.\\n\\n1: Bin: The `Bin` data type is a recursive structure with two constructors, `O` and `I`, each taking another `Bin` as an argument to form bit-strings of arbitrary length. For instance, `O (I (O E))` represents the bit-string \"010\", where `E` denotes the empty bit-string. In the `Collapse` monad, `Bin` is used to manage paths during parallel computations. The `fork` function in the `bind` operation leverages `Bin` to track and manipulate paths through the computation graph. Functions like `putO` and `putI` prepend `O` and `I` to existing bit-strings, respectively, enabling the construction and transformation of paths as the computation progresses. This mechanism ensures efficient handling of multiple parallel execution paths, ultimately reducing them to a single result or a list of results.\\n\\n2: Book: The `Book` data structure is a central repository in the HVM3 runtime, storing function definitions and metadata essential for execution. It includes mappings such as `idToFunc\\'` (linking function IDs to definitions), `idToName\\'` (associating IDs with function names), `idToLabs\\'` (tracking labels for `DUP` and `SUP` operations), `nameToId\\'` (enabling name-to-ID lookups), and `ctrToAri`/`ctrToCid` (mapping constructors to their arity and IDs). Created during parsing, the `Book` is utilized across compilation, reduction, and execution phases, providing the necessary metadata for optimizing and executing terms. It ensures efficient handling of parallel computations by enabling quick access to function definitions and operational rules.'}) (input_keys={'symbols', 'task', 'symbol_explanations'})\n"
     ]
    }
   ],
   "source": [
    "import dspy\n",
    "from retrieval_data import load_trainset, filter_symbols, score_response, evaluate, ClassifyRelatednessProgram\n",
    "\n",
    "trainset = load_trainset()\n",
    "item = trainset[0]\n",
    "print(item)"
   ]
  },
  {
   "cell_type": "code",
   "execution_count": 8,
   "metadata": {},
   "outputs": [
    {
     "name": "stdout",
     "output_type": "stream",
     "text": [
      "[[ ## symbol_explanations ## ]]\n",
      "0: Collapse: The `Collapse` monad represents a tree structure for parallel computation, with three constructors: `CSup` for superposition (parallel evaluation), `CVal` for holding a single value, and `CEra` for representing an empty or erased value. Its core operation, `bind`, enables chaining computations by recursively applying a function to values within the structure, facilitating parallel evaluation. The monad is integral to the HVM3 runtime, supporting functions like `doCollapseAt` for reducing terms at specific graph locations and `doCollapseFlatAt` for flattening results into lists. It also offers flexible flattening strategies (`flattenDFS`, `flattenBFS`, `flattenPQ`) to adapt to different parallel computation needs. Overall, the `Collapse` monad efficiently manages parallel execution, making it a key component of the HVM3 system.\n",
      "\n",
      "1: CompileState: The `CompileState` data type acts as the central state container for the compilation process in the HVM3 codebase. It is utilized within the `Compile` monad, a state monad that encapsulates the compilation logic, enabling the tracking and management of various compilation aspects such as counters, mappings, and intermediate results. The `compileWith` function initializes a `CompileState` with default values, ensuring a consistent starting point for the compilation process. By leveraging a state monad, the codebase maintains functional purity while allowing state updates in a composable manner, facilitating the transformation of high-level `Core` terms into efficient low-level C code. This design supports the codebase's emphasis on functional programming and efficient parallel execution.\n",
      "\n",
      "2: Core: The `Core` data type serves as the foundational structure in the HVM3 codebase, representing the abstract syntax tree (AST) for functional programs. It defines key constructs such as variables (`Var`), function references (`Ref`), lambda abstractions (`Lam`), function applications (`App`), and superpositions (`Sup`), enabling the runtime to handle diverse operations. During compilation, `Core` facilitates the translation of high-level terms into low-level C code, while during execution, it supports term reduction to normal forms. Additionally, `Core` is integral to parsing and stringification, allowing terms to be read and displayed in a human-readable format. As the central representation of program structure, `Core` is indispensable for term manipulation, execution, and interaction within the HVM3 system.\n",
      "\n",
      "[[ ## task ## ]]\n",
      "make CTRs store only the CID in the Lab field, and move the arity to a global static object in C\n",
      "\n",
      "[[ ## symbols ## ]]\n",
      "['0: Collapse', '1: CompileState', '2: Core']\n",
      "\t\t(secret hint: For each symbol, think step-by-step about whether or not it is directly related to the task and why.)\n",
      "\n",
      "Respond with the corresponding output fields, starting with the field `[[ ## rationale ## ]]`, then `[[ ## strongly_related_symbols ## ]]` (must be formatted as a valid Python list[CodebaseSymbolNumber]), and then ending with the marker for `[[ ## completed ## ]]`.\n",
      "[Prediction(\n",
      "    rationale='The task is to make CTRs (Compile-Time Representations) store only the CID (Compile-Time ID) in the Lab field and move the arity to a global static object in C. This task is related to the compilation process, which is closely tied to the `CompileState` monad and other compilation-related concepts. The `CompileState` monad plays a crucial role in managing compilation aspects such as counters, mappings, and intermediate results, which is relevant to the task of modifying the CTRs.',\n",
      "    strongly_related_symbols=[CodebaseSymbolNumber(symbol_index=1, reasoning='The CompileState monad is directly related to the compilation process, which is the primary context of the task.', confidence=0.9), CodebaseSymbolNumber(symbol_index=0, reasoning=\"The Collapse monad is related to parallel computation, which might be tangentially related to the compilation process, but it's not directly relevant to the task.\", confidence=0.1), CodebaseSymbolNumber(symbol_index=2, reasoning='The Core data type is related to the abstract syntax tree and term manipulation, which is not directly related to the task.', confidence=0.01)]\n",
      ")]\n"
     ]
    }
   ],
   "source": [
    "from llms import get_lm\n",
    "\n",
    "\n",
    "program = ClassifyRelatednessProgram()\n",
    "\n",
    "lm = get_lm(\"openrouter/meta-llama/llama-3.1-8b-instruct\")\n",
    "with dspy.context(lm=lm, async_max_workers=100):\n",
    "    results = [program(**trainset[1].inputs().toDict())]\n",
    "\n",
    "print(lm.history[-1][\"messages\"][-1][\"content\"])\n",
    "\n",
    "print(results)"
   ]
  }
 ],
 "metadata": {
  "kernelspec": {
   "display_name": "env",
   "language": "python",
   "name": "python3"
  },
  "language_info": {
   "codemirror_mode": {
    "name": "ipython",
    "version": 3
   },
   "file_extension": ".py",
   "mimetype": "text/x-python",
   "name": "python",
   "nbconvert_exporter": "python",
   "pygments_lexer": "ipython3",
   "version": "3.12.3"
  }
 },
 "nbformat": 4,
 "nbformat_minor": 2
}
