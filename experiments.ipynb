{
 "cells": [
  {
   "cell_type": "code",
   "execution_count": 22,
   "metadata": {},
   "outputs": [
    {
     "name": "stdout",
     "output_type": "stream",
     "text": [
      "The autoreload extension is already loaded. To reload it, use:\n",
      "  %reload_ext autoreload\n"
     ]
    }
   ],
   "source": [
    "%load_ext autoreload\n",
    "%reload_ext autoreload\n",
    "%autoreload 2"
   ]
  },
  {
   "cell_type": "code",
   "execution_count": 24,
   "metadata": {},
   "outputs": [
    {
     "name": "stdout",
     "output_type": "stream",
     "text": [
      "c file found 75 names\n",
      "all files found 271 names\n",
      "WARNING: {128, 1, 516, 10, 273, 276, 149, 277, 412, 418, 424, 425, 45, 174, 47, 175, 303, 304, 306, 309, 311, 56, 312, 313, 314, 315, 61, 446, 63, 64, 321, 66, 195, 196, 197, 451, 200, 330, 76, 204, 334, 207, 208, 467, 340, 343, 471, 348, 93, 477, 478, 485, 488, 490, 492, 247, 252, 127} blocks not seen in task make CTRs store only the CID in the Lab field, and move the arity to a global static object in C\n",
      "WARNING: {128, 1, 516, 10, 273, 276, 149, 277, 412, 418, 424, 425, 45, 174, 47, 175, 303, 304, 306, 309, 311, 56, 312, 313, 314, 315, 61, 446, 63, 64, 321, 66, 195, 196, 197, 451, 200, 330, 76, 204, 334, 207, 208, 467, 340, 343, 471, 348, 93, 477, 478, 485, 488, 490, 492, 247, 252, 127} blocks not seen in task extend the size of the addr field on runtime nodes from 32 to 40 bits, and reduce the label field from 24 to 16 bits\n",
      "WARNING: {128, 1, 516, 10, 273, 276, 149, 277, 412, 418, 424, 425, 45, 174, 47, 175, 303, 304, 306, 309, 311, 56, 312, 313, 314, 315, 61, 446, 63, 64, 321, 66, 195, 196, 197, 451, 200, 330, 76, 204, 334, 207, 208, 467, 340, 343, 471, 348, 93, 477, 478, 485, 488, 490, 492, 247, 252, 127} blocks not seen in task completely remove native numbers as a feature\n",
      "WARNING: {128, 1, 516, 10, 273, 276, 149, 277, 412, 418, 424, 425, 45, 174, 47, 175, 303, 304, 306, 309, 311, 56, 312, 313, 314, 315, 61, 446, 63, 64, 321, 66, 195, 196, 197, 451, 200, 330, 76, 204, 334, 207, 208, 467, 340, 343, 471, 348, 93, 477, 478, 485, 488, 490, 492, 247, 252, 127} blocks not seen in task remove the list/string pretty printers\n",
      "WARNING: {128, 1, 516, 10, 273, 276, 149, 277, 412, 418, 424, 425, 45, 174, 47, 175, 303, 304, 306, 309, 311, 56, 312, 313, 314, 315, 61, 446, 63, 64, 321, 66, 195, 196, 197, 451, 200, 330, 76, 204, 334, 207, 208, 467, 340, 343, 471, 348, 93, 477, 478, 485, 488, 490, 492, 247, 252, 127} blocks not seen in task measure interactions by interaction type instead of just storing the total count. report results segmented by interaction type\n",
      "WARNING: {128, 1, 516, 10, 273, 276, 149, 277, 412, 418, 424, 425, 45, 174, 47, 175, 303, 304, 306, 309, 311, 56, 312, 313, 314, 315, 61, 446, 63, 64, 321, 66, 195, 196, 197, 451, 200, 330, 76, 204, 334, 207, 208, 467, 340, 343, 471, 348, 93, 477, 478, 485, 488, 490, 492, 247, 252, 127} blocks not seen in task implement a feature that prevents the user from creating two constructors with the same name. show a helpful error when that happens.\n",
      "WARNING: {0, 1, 2, 3, 4, 5, 6, 7, 8, 9, 10, 11, 12, 13, 14, 15, 16, 17, 18, 19, 20, 21, 22, 23, 24, 25, 26, 27, 28, 29, 30, 31, 32, 33, 34, 35, 36, 37, 38, 39, 40, 41, 42, 43, 44, 45, 46, 47, 48, 49, 50, 51, 52, 53, 54, 55, 56, 57, 58, 59, 60, 61, 62, 63, 64, 65, 66, 67, 68, 69, 70, 71, 72, 73, 74, 75, 76, 77, 78, 79, 80, 81, 82, 83, 84, 85, 86, 87, 88, 89, 90, 91, 92, 93, 94, 95, 96, 97, 98, 99, 100, 101, 102, 103, 104, 105, 106, 107, 108, 109, 110, 111, 112, 113, 114, 115, 116, 117, 118, 119, 120, 121, 122, 123, 124, 125, 126, 127, 128, 129, 130, 131, 132, 133, 134, 135, 136, 137, 138, 139, 140, 141, 142, 143, 144, 145, 146, 147, 148, 149, 150, 151, 152, 153, 154, 155, 156, 157, 158, 159, 160, 161, 162, 163, 164, 165, 166, 167, 168, 169, 170, 171, 172, 173, 174, 175, 176, 177, 178, 179, 180, 181, 182, 183, 184, 185, 186, 187, 188, 189, 190, 191, 192, 193, 194, 195, 196, 197, 198, 199, 200, 201, 202, 203, 204, 205, 206, 207, 208, 209, 210, 211, 212, 213, 214, 215, 216, 217, 218, 219, 220, 221, 222, 223, 224, 225, 226, 227, 228, 229, 230, 231, 232, 233, 234, 235, 236, 237, 238, 239, 240, 241, 242, 243, 244, 245, 246, 247, 248, 249, 250, 251, 252, 253, 254, 255, 256, 257, 258, 259, 260, 261, 262, 263, 264, 265, 266, 267, 268, 269, 270, 271, 272, 273, 274, 275, 276, 277, 278, 279, 280, 281, 282, 283, 284, 285, 286, 287, 288, 289, 290, 291, 292, 293, 294, 295, 296, 297, 298, 299, 300, 301, 302, 303, 304, 305, 306, 307, 308, 309, 310, 311, 312, 313, 314, 315, 316, 317, 318, 319, 320, 321, 322, 323, 324, 325, 326, 327, 328, 329, 330, 331, 332, 333, 334, 335, 336, 337, 338, 339, 340, 341, 342, 343, 344, 345, 346, 347, 348, 349, 350, 351, 352, 353, 354, 355, 356, 357, 358, 359, 360, 361, 362, 363, 364, 365, 366, 367, 368, 369, 370, 371, 372, 373, 374, 375, 376, 377, 378, 379, 380, 381, 382, 383, 384, 385, 386, 387, 388, 389, 390, 391, 392, 393, 394, 395, 396, 397, 398, 399, 400, 401, 402, 403, 404, 405, 406, 407, 408, 409, 410, 411, 412, 413, 414, 415, 416, 417, 418, 419, 420, 421, 422, 423, 424, 425, 426, 427, 428, 429, 430, 431, 432, 433, 434, 435, 436, 437, 438, 439, 440, 441, 442, 443, 444, 445, 446, 447, 448, 449, 450, 451, 452, 453, 454, 455, 456, 457, 458, 459, 460, 461, 462, 463, 464, 465, 466, 467, 468, 469, 470, 471, 472, 473, 474, 475, 476, 477, 478, 479, 480, 481, 482, 483, 484, 485, 486, 487, 488, 489, 490, 491, 492, 493, 494, 495, 496, 497, 498, 499, 500, 501, 502, 503, 504, 505, 506, 507, 508, 509, 510, 511, 512, 513, 514, 515, 516, 517, 518} blocks not seen in task clean up every commented-out line of code (\"garbage collect\" the codebase)\n",
      "WARNING: {128, 1, 516, 10, 273, 276, 149, 277, 412, 418, 424, 425, 45, 174, 47, 175, 303, 304, 306, 309, 311, 56, 312, 313, 314, 315, 61, 446, 63, 64, 321, 66, 195, 196, 197, 451, 200, 330, 76, 204, 334, 207, 208, 467, 340, 343, 471, 348, 93, 477, 478, 485, 488, 490, 492, 247, 252, 127} blocks not seen in task add Tup and Get constructors. Tup behaves similarly to a superposition of label 0, and is represented as (a,b). Get behaves similarly to a duplication with label 0, and is represented as ! (a,b) = x\n",
      "WARNING: {128, 1, 516, 10, 273, 276, 149, 277, 412, 418, 424, 425, 45, 174, 47, 175, 303, 304, 306, 309, 311, 56, 312, 313, 314, 315, 61, 446, 63, 64, 321, 66, 195, 196, 197, 451, 200, 330, 76, 204, 334, 207, 208, 467, 340, 343, 471, 348, 93, 477, 478, 485, 488, 490, 492, 247, 252, 127} blocks not seen in task extend Lam and App nodes to also store a label, just like Sups and Dups. the App-Lam rule must be updated so that, when the labels are different, the nodes will commute instead of beta-reducing\n",
      "WARNING: {128, 1, 516, 10, 273, 276, 149, 277, 412, 418, 424, 425, 45, 174, 47, 175, 303, 304, 306, 309, 311, 56, 312, 313, 314, 315, 61, 446, 63, 64, 321, 66, 195, 196, 197, 451, 200, 330, 76, 204, 334, 207, 208, 467, 340, 343, 471, 348, 93, 477, 478, 485, 488, 490, 492, 247, 252, 127} blocks not seen in task replace the 'λx body' syntax by '\\x body'\n"
     ]
    }
   ],
   "source": [
    "from src.prompts.classify_blocks import load_trainset\n",
    "\n",
    "examples = load_trainset()"
   ]
  },
  {
   "cell_type": "code",
   "execution_count": 33,
   "metadata": {},
   "outputs": [
    {
     "name": "stdout",
     "output_type": "stream",
     "text": [
      "all blocks: 3, 5\n",
      "---\n",
      "[3, 5]\n",
      "---\n",
      "[3, 5]\n",
      "---\n",
      "gemini Prediction(\n",
      "    task_reflection='The task requires modifying the HVM3 codebase to store only the constructor ID (CID) within the `Lab` field of `Term` structures and move the arity information to a global static object in the C backend.  This change is crucial for maintaining the integrity of the `Lab` field, which is used for various operations, and for separating the arity information from the `Term` structure itself.  The modification will involve updating the `Term` representation and potentially adjusting functions that interact with the `Lab` field to access the arity from the global static object.',\n",
      "    blocks_to_edit=[Block(block_number=3, reasoning='Block 3 defines the `Bin` data type, which is not directly related to the task of modifying `CTR` storage.  No changes are needed here.', requires_direct_modification=False, confidence=1.0), Block(block_number=5, reasoning='Block 5 contains the `bind` function and the `fork` function, which are part of the `Collapse` monad.  These functions are not directly involved in the `CTR` modification.  No changes are needed here.', requires_direct_modification=False, confidence=1.0)]\n",
      ")\n",
      "deepseek Prediction(\n",
      "    task_reflection='The task requires modifying how constructor terms (CTRs) store their metadata. Currently, the `Lab` field in CTRs stores both the constructor ID (CID) and arity, packed using the `u12v2` encoding scheme. The task asks to simplify this by storing only the CID in the `Lab` field and moving the arity to a global static object in C. This change will require updates to both the Haskell and C code to ensure compatibility and proper handling of arity information during compilation and execution.',\n",
      "    blocks_to_edit=[Block(block_number=3, reasoning=\"The `Bin` data type is used in the `Collapse` monad to manage paths during parallel computations. While it is not directly related to the task, it may need adjustments if the `Lab` field's structure changes significantly.\", requires_direct_modification=False, confidence=0.9), Block(block_number=5, reasoning=\"The `bind` function in the `Collapse` monad interacts with the `Lab` field through the `fork` mechanism. If the `Lab` field's structure changes, this function may need updates to handle the new format correctly.\", requires_direct_modification=True, confidence=0.95)]\n",
      ")\n"
     ]
    }
   ],
   "source": [
    "from src.prompts.classify_blocks import Block, classify_block\n",
    "from src.llms import gemini_8b, deepseek_chat, claude_sonnet\n",
    "\n",
    "example = examples[1]\n",
    "blocks1 = classify_block(gemini_8b, example)\n",
    "blocks2 = classify_block(deepseek_chat, example)\n",
    "# blocks3 = classify_block(claude_sonnet, example)\n",
    "def filter_block_nums(blocks: list[Block]):\n",
    "    return sorted([block.block_number for block in blocks])\n",
    "print(f\"all blocks: {example.block_numbers}\")\n",
    "print('---')\n",
    "print(filter_block_nums(blocks1.blocks_to_edit))\n",
    "print(\"---\")\n",
    "print(filter_block_nums(blocks2.blocks_to_edit))\n",
    "print(\"---\")\n",
    "# print(filter_block_nums(blocks3.blocks_to_edit))\n",
    "\n",
    "print(\"gemini\", blocks1)\n",
    "print(\"deepseek\", blocks2)\n",
    "# print(\"claude\", blocks3)\n"
   ]
  }
 ],
 "metadata": {
  "kernelspec": {
   "display_name": "env",
   "language": "python",
   "name": "python3"
  },
  "language_info": {
   "codemirror_mode": {
    "name": "ipython",
    "version": 3
   },
   "file_extension": ".py",
   "mimetype": "text/x-python",
   "name": "python",
   "nbconvert_exporter": "python",
   "pygments_lexer": "ipython3",
   "version": "3.12.3"
  }
 },
 "nbformat": 4,
 "nbformat_minor": 2
}
