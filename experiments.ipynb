{
 "cells": [
  {
   "cell_type": "code",
   "execution_count": 9,
   "metadata": {},
   "outputs": [
    {
     "name": "stdout",
     "output_type": "stream",
     "text": [
      "The autoreload extension is already loaded. To reload it, use:\n",
      "  %reload_ext autoreload\n"
     ]
    }
   ],
   "source": [
    "%load_ext autoreload\n",
    "%reload_ext autoreload\n",
    "%autoreload 2"
   ]
  },
  {
   "cell_type": "code",
   "execution_count": 15,
   "metadata": {},
   "outputs": [
    {
     "name": "stdout",
     "output_type": "stream",
     "text": [
      "['task', 'specific_context', 'task_reflection', 'programmer_1_reasoning', 'programmer_1_requires_direct_modification', 'programmer_2_reasoning', 'programmer_2_requires_direct_modification', 'reasoning_for_modification', 'reasoning_against_modification', 'requires_direct_modification', 'confidence']\n"
     ]
    }
   ],
   "source": [
    "from src.prompts.classify_blocks import load_judged_edge_cases\n",
    "\n",
    "exs = load_judged_edge_cases()\n",
    "ex = exs[0]\n",
    "print(ex.keys())"
   ]
  }
 ],
 "metadata": {
  "kernelspec": {
   "display_name": "env",
   "language": "python",
   "name": "python3"
  },
  "language_info": {
   "codemirror_mode": {
    "name": "ipython",
    "version": 3
   },
   "file_extension": ".py",
   "mimetype": "text/x-python",
   "name": "python",
   "nbconvert_exporter": "python",
   "pygments_lexer": "ipython3",
   "version": "3.12.3"
  }
 },
 "nbformat": 4,
 "nbformat_minor": 2
}
