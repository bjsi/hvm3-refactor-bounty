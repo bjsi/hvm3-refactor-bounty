{
 "cells": [
  {
   "cell_type": "code",
   "execution_count": 4,
   "metadata": {},
   "outputs": [
    {
     "name": "stdout",
     "output_type": "stream",
     "text": [
      "The autoreload extension is already loaded. To reload it, use:\n",
      "  %reload_ext autoreload\n"
     ]
    }
   ],
   "source": [
    "%load_ext autoreload\n",
    "%reload_ext autoreload\n",
    "%autoreload 2"
   ]
  },
  {
   "cell_type": "code",
   "execution_count": 5,
   "metadata": {},
   "outputs": [
    {
     "name": "stdout",
     "output_type": "stream",
     "text": [
      "c file found 75 names\n",
      "all files found 271 names\n"
     ]
    }
   ],
   "source": [
    "from src.prompts.classify_blocks import load_trainset_batched\n",
    "\n",
    "examples = load_trainset_batched(1)"
   ]
  },
  {
   "cell_type": "code",
   "execution_count": 8,
   "metadata": {},
   "outputs": [
    {
     "name": "stderr",
     "output_type": "stream",
     "text": [
      "2025/01/10 09:34:58 INFO dspy.teleprompt.mipro_optimizer_v2: \n",
      "RUNNING WITH THE FOLLOWING LIGHT AUTO RUN SETTINGS:\n",
      "num_trials: 7\n",
      "minibatch: True\n",
      "num_candidates: 5\n",
      "valset size: 69\n",
      "\n",
      "2025/01/10 09:35:00 INFO dspy.teleprompt.mipro_optimizer_v2: \n",
      "==> STEP 1: BOOTSTRAP FEWSHOT EXAMPLES <==\n",
      "2025/01/10 09:35:00 INFO dspy.teleprompt.mipro_optimizer_v2: These will be used as few-shot example candidates for our program and for creating instructions.\n",
      "\n",
      "2025/01/10 09:35:00 INFO dspy.teleprompt.mipro_optimizer_v2: Bootstrapping N=5 sets of demonstrations...\n"
     ]
    },
    {
     "name": "stdout",
     "output_type": "stream",
     "text": [
      "Bootstrapping set 1/5\n",
      "Bootstrapping set 2/5\n",
      "Bootstrapping set 3/5\n"
     ]
    },
    {
     "name": "stderr",
     "output_type": "stream",
     "text": [
      "  6%|▌         | 1/18 [00:11<03:15, 11.52s/it]\n"
     ]
    },
    {
     "name": "stdout",
     "output_type": "stream",
     "text": [
      "Bootstrapped 1 full traces after 1 examples for up to 1 rounds, amounting to 1 attempts.\n",
      "Bootstrapping set 4/5\n"
     ]
    },
    {
     "name": "stderr",
     "output_type": "stream",
     "text": [
      "  6%|▌         | 1/18 [00:10<02:54, 10.25s/it]\n"
     ]
    },
    {
     "name": "stdout",
     "output_type": "stream",
     "text": [
      "Bootstrapped 1 full traces after 1 examples for up to 1 rounds, amounting to 1 attempts.\n",
      "Bootstrapping set 5/5\n"
     ]
    },
    {
     "name": "stderr",
     "output_type": "stream",
     "text": [
      "  6%|▌         | 1/18 [00:10<02:53, 10.23s/it]\n",
      "2025/01/10 09:35:32 INFO dspy.teleprompt.mipro_optimizer_v2: \n",
      "==> STEP 2: PROPOSE INSTRUCTION CANDIDATES <==\n",
      "2025/01/10 09:35:32 INFO dspy.teleprompt.mipro_optimizer_v2: We will use the few-shot examples from the previous step, a generated dataset summary, a summary of the program code, and a randomly selected prompting tip to propose instructions.\n",
      "2025/01/10 09:35:32 INFO dspy.teleprompt.mipro_optimizer_v2: \n",
      "Proposing instructions...\n",
      "\n"
     ]
    },
    {
     "name": "stdout",
     "output_type": "stream",
     "text": [
      "Bootstrapped 1 full traces after 1 examples for up to 1 rounds, amounting to 1 attempts.\n",
      "Proposing instruction for predictor 0...\n",
      "Proposing instruction for predictor 0...\n",
      "Proposing instruction for predictor 0...\n",
      "Proposing instruction for predictor 0...\n",
      "Proposing instruction for predictor 0...\n"
     ]
    },
    {
     "name": "stderr",
     "output_type": "stream",
     "text": [
      "2025/01/10 09:36:28 INFO dspy.teleprompt.mipro_optimizer_v2: Proposed Instructions for Predictor 0:\n",
      "\n",
      "2025/01/10 09:36:28 INFO dspy.teleprompt.mipro_optimizer_v2: 0: Determine whether code in the given BLOCKs require direct modification. BLOCKs only require direct modification if the code directly visible inside them needs to be changed.\n",
      "\n",
      "2025/01/10 09:36:28 INFO dspy.teleprompt.mipro_optimizer_v2: 1: Analyze the provided codebase summary and symbol explanations to determine if any of the specified BLOCKs need direct modification. Consider the general and specific context of the task, as well as the block numbers, to identify areas where the visible code requires changes. Reflect on the task requirements and suggest which blocks should be edited to optimize or correct the code functionality.\n",
      "\n",
      "2025/01/10 09:36:28 INFO dspy.teleprompt.mipro_optimizer_v2: 2: Analyze the provided code blocks to identify if any direct modifications are needed to achieve the task of updating the representation of constructor terms (CTRs) in the HVM3 system. Specifically, evaluate each block to determine if it directly handles the storage or processing of CTRs, particularly focusing on the `Lab` field and any references to constructor IDs (CIDs) or arity. If a block directly interacts with these components, it may require modification. Otherwise, note that no changes are needed for those blocks. Ensure your analysis is thorough and that you provide a clear rationale for whether each block requires modification or not, based on its content and relevance to the task.\n",
      "\n",
      "2025/01/10 09:36:28 INFO dspy.teleprompt.mipro_optimizer_v2: 3: Analyze the provided BLOCKs to determine if the code directly visible within them requires modification to accommodate changes in the representation of CTR terms, specifically focusing on storing only the Constructor ID (CID) in the Lab field and relocating the arity information to a global static object in the C code. Consider the overall compilation process and identify any indirect dependencies or necessary adjustments that might be required in the surrounding codebase to ensure seamless integration of these changes.\n",
      "\n",
      "2025/01/10 09:36:28 INFO dspy.teleprompt.mipro_optimizer_v2: 4: Analyze the provided BLOCKs of code to determine if any direct modifications are necessary. Direct modifications are required only if the code visible within these BLOCKs directly interacts with the CTR representation or the Lab field. Consider a high-stakes scenario where failing to identify needed changes could result in significant performance degradation or incorrect memory usage in the HVM3 system. If any dependencies or interactions with the CTR representation are found, propose specific changes to ensure the system's efficiency and correctness are maintained.\n",
      "\n",
      "2025/01/10 09:36:28 INFO dspy.teleprompt.mipro_optimizer_v2: \n",
      "\n",
      "2025/01/10 09:36:28 INFO dspy.teleprompt.mipro_optimizer_v2: Evaluating the default program...\n",
      "\n"
     ]
    },
    {
     "name": "stdout",
     "output_type": "stream",
     "text": [
      "demo_candidates after hiding: {0: [[], [Example({'codebase_summary': '... omitted for brevity ...', 'codebase_symbol_explanations': '... omitted for brevity ...', 'general_context': '... omitted for brevity ...', 'specific_context': '... omitted for brevity ...', 'task': 'make CTRs store only the CID in the Lab field, and move the arity to a global static object in C', 'blocks_to_edit': [], 'block_numbers': '72, 73, 74, 75, 76, 77'}) (input_keys={'codebase_symbol_explanations', 'block_numbers', 'codebase_summary', 'task', 'general_context', 'specific_context'}), Example({'codebase_summary': '... omitted for brevity ...', 'codebase_symbol_explanations': '... omitted for brevity ...', 'general_context': '... omitted for brevity ...', 'specific_context': '... omitted for brevity ...', 'task': 'make CTRs store only the CID in the Lab field, and move the arity to a global static object in C', 'blocks_to_edit': [], 'block_numbers': '78, 79, 80, 81, 82, 83'}) (input_keys={'codebase_symbol_explanations', 'block_numbers', 'codebase_summary', 'task', 'general_context', 'specific_context'}), Example({'codebase_summary': '... omitted for brevity ...', 'codebase_symbol_explanations': '... omitted for brevity ...', 'general_context': '... omitted for brevity ...', 'specific_context': '... omitted for brevity ...', 'task': 'make CTRs store only the CID in the Lab field, and move the arity to a global static object in C', 'blocks_to_edit': [], 'block_numbers': '6, 7, 8, 9, 10, 11'}) (input_keys={'codebase_symbol_explanations', 'block_numbers', 'codebase_summary', 'task', 'general_context', 'specific_context'}), Example({'codebase_summary': '... omitted for brevity ...', 'codebase_symbol_explanations': '... omitted for brevity ...', 'general_context': '... omitted for brevity ...', 'specific_context': '... omitted for brevity ...', 'task': 'make CTRs store only the CID in the Lab field, and move the arity to a global static object in C', 'blocks_to_edit': [], 'block_numbers': '24, 25, 26, 27, 28, 29'}) (input_keys={'codebase_symbol_explanations', 'block_numbers', 'codebase_summary', 'task', 'general_context', 'specific_context'}), Example({'codebase_summary': '... omitted for brevity ...', 'codebase_symbol_explanations': '... omitted for brevity ...', 'general_context': '... omitted for brevity ...', 'specific_context': '... omitted for brevity ...', 'task': 'make CTRs store only the CID in the Lab field, and move the arity to a global static object in C', 'blocks_to_edit': [], 'block_numbers': '48, 49, 50, 51, 52, 53'}) (input_keys={'codebase_symbol_explanations', 'block_numbers', 'codebase_summary', 'task', 'general_context', 'specific_context'}), Example({'codebase_summary': '... omitted for brevity ...', 'codebase_symbol_explanations': '... omitted for brevity ...', 'general_context': '... omitted for brevity ...', 'specific_context': '... omitted for brevity ...', 'task': 'make CTRs store only the CID in the Lab field, and move the arity to a global static object in C', 'blocks_to_edit': [], 'block_numbers': '42, 43, 44, 45, 46, 47'}) (input_keys={'codebase_symbol_explanations', 'block_numbers', 'codebase_summary', 'task', 'general_context', 'specific_context'})], [Example({'augmented': True, 'codebase_summary': '... omitted for brevity ...', 'codebase_symbol_explanations': '... omitted for brevity ...', 'general_context': '... omitted for brevity ...', 'specific_context': '... omitted for brevity ...', 'task': 'make CTRs store only the CID in the Lab field, and move the arity to a global static object in C', 'block_numbers': '0, 1, 2, 3, 4, 5', 'task_reflection': \"The task is to modify the representation of constructor terms (CTRs) in the HVM3 codebase. Currently, CTRs store both the constructor ID (CID) and arity in the Lab field. The goal is to store only the CID in the Lab field and move the arity information to a global static object in the C code.\\n\\nThis change will affect how constructor terms are created, stored, and processed throughout the codebase. It will require modifications in both the Haskell frontend and the C backend. However, the provided code blocks (0-5) do not contain direct references to CTR handling or the Lab field. These blocks mainly define the Collapse monad and related data structures, which are not directly involved in the CTR representation.\\n\\nTo implement this change, we would need to modify parts of the code that deal with constructor creation, parsing, and reduction. This would likely involve changes to functions like `parseCtr`, `compileFullCore` for CTR cases, and any C functions that handle CTR terms. We would also need to introduce a new global static object in the C code to store the arity information for each constructor.\\n\\nSince the provided code blocks don't contain the relevant parts for this task, there are no specific edits to suggest for these blocks.\", 'blocks_to_edit': []}) (input_keys=None), Example({'codebase_summary': '... omitted for brevity ...', 'codebase_symbol_explanations': '... omitted for brevity ...', 'general_context': '... omitted for brevity ...', 'specific_context': '... omitted for brevity ...', 'task': 'make CTRs store only the CID in the Lab field, and move the arity to a global static object in C', 'blocks_to_edit': [], 'block_numbers': '54, 55, 56, 57, 58, 59'}) (input_keys={'codebase_symbol_explanations', 'block_numbers', 'codebase_summary', 'task', 'general_context', 'specific_context'}), Example({'codebase_summary': '... omitted for brevity ...', 'codebase_symbol_explanations': '... omitted for brevity ...', 'general_context': '... omitted for brevity ...', 'specific_context': '... omitted for brevity ...', 'task': 'make CTRs store only the CID in the Lab field, and move the arity to a global static object in C', 'blocks_to_edit': [], 'block_numbers': '30, 31, 32, 33, 34, 35'}) (input_keys={'codebase_symbol_explanations', 'block_numbers', 'codebase_summary', 'task', 'general_context', 'specific_context'}), Example({'codebase_summary': '... omitted for brevity ...', 'codebase_symbol_explanations': '... omitted for brevity ...', 'general_context': '... omitted for brevity ...', 'specific_context': '... omitted for brevity ...', 'task': 'make CTRs store only the CID in the Lab field, and move the arity to a global static object in C', 'blocks_to_edit': [{'block_number': 21, 'reasoning': 'This block directly handles CTR terms and currently extracts both CID and arity from the Lab field. It needs to be modified to only extract the CID from Lab and retrieve the arity from the new global static object in C.', 'requires_direct_modification': True, 'confidence': 0.9}, {'block_number': 22, 'reasoning': 'This block handles MAT terms and uses u12v2X to extract information from the Lab field. If the structure of the Lab field is changing for CTR terms, it might also affect how MAT terms are processed. This block may need to be reviewed and potentially modified.', 'requires_direct_modification': False, 'confidence': 0.7}], 'block_numbers': '18, 19, 20, 21, 22, 23'}) (input_keys={'codebase_symbol_explanations', 'block_numbers', 'codebase_summary', 'task', 'general_context', 'specific_context'}), Example({'codebase_summary': '... omitted for brevity ...', 'codebase_symbol_explanations': '... omitted for brevity ...', 'general_context': '... omitted for brevity ...', 'specific_context': '... omitted for brevity ...', 'task': 'make CTRs store only the CID in the Lab field, and move the arity to a global static object in C', 'blocks_to_edit': [], 'block_numbers': '66, 67, 68, 69, 70, 71'}) (input_keys={'codebase_symbol_explanations', 'block_numbers', 'codebase_summary', 'task', 'general_context', 'specific_context'}), Example({'codebase_summary': '... omitted for brevity ...', 'codebase_symbol_explanations': '... omitted for brevity ...', 'general_context': '... omitted for brevity ...', 'specific_context': '... omitted for brevity ...', 'task': 'make CTRs store only the CID in the Lab field, and move the arity to a global static object in C', 'blocks_to_edit': [], 'block_numbers': '72, 73, 74, 75, 76, 77'}) (input_keys={'codebase_symbol_explanations', 'block_numbers', 'codebase_summary', 'task', 'general_context', 'specific_context'})], [Example({'augmented': True, 'codebase_summary': '... omitted for brevity ...', 'codebase_symbol_explanations': '... omitted for brevity ...', 'general_context': '... omitted for brevity ...', 'specific_context': '... omitted for brevity ...', 'task': 'make CTRs store only the CID in the Lab field, and move the arity to a global static object in C', 'block_numbers': '78, 79, 80, 81, 82, 83', 'task_reflection': \"The task requires modifying the representation of CTR (constructor) terms in the HVM3 codebase. Specifically, we need to store only the Constructor ID (CID) in the Lab field of CTR terms, and move the arity information to a global static object in the C code. This change will affect how CTR terms are created, manipulated, and interpreted throughout the codebase.\\n\\nIn the given blocks, we don't see direct manipulation of CTR terms. However, the `compileFullCore` function is responsible for compiling various Core constructs into C code, and it's likely that CTR handling is implemented in a similar manner in other parts of this function not shown here.\\n\\nWhile these blocks don't need direct modification for the CTR change, they provide context for how term compilation is handled in general, which will be useful for implementing the CTR changes consistently across the codebase.\", 'blocks_to_edit': []}) (input_keys=None), Example({'codebase_summary': '... omitted for brevity ...', 'codebase_symbol_explanations': '... omitted for brevity ...', 'general_context': '... omitted for brevity ...', 'specific_context': '... omitted for brevity ...', 'task': 'make CTRs store only the CID in the Lab field, and move the arity to a global static object in C', 'blocks_to_edit': [], 'block_numbers': '6, 7, 8, 9, 10, 11'}) (input_keys={'codebase_symbol_explanations', 'block_numbers', 'codebase_summary', 'task', 'general_context', 'specific_context'}), Example({'codebase_summary': '... omitted for brevity ...', 'codebase_symbol_explanations': '... omitted for brevity ...', 'general_context': '... omitted for brevity ...', 'specific_context': '... omitted for brevity ...', 'task': 'make CTRs store only the CID in the Lab field, and move the arity to a global static object in C', 'blocks_to_edit': [{'block_number': 97, 'reasoning': \"This block handles numeric pattern matching, which is closely related to constructor pattern matching. While it doesn't directly use constructor IDs, it may need to be updated to maintain consistency with the new constructor representation.\", 'requires_direct_modification': True, 'confidence': 0.9}, {'block_number': 98, 'reasoning': 'This block directly handles constructor pattern matching using `u12v2_x(term_lab(valNam))`. It needs to be modified to use only the CID from the Lab field and retrieve the arity from the new global static object.', 'requires_direct_modification': True, 'confidence': 1.0}, {'block_number': 99, 'reasoning': 'This block also handles constructor pattern matching and uses `u12v2_x(term_lab(valNam))`. It needs to be updated to use the new CID-only Lab field and retrieve arity information from the global static object.', 'requires_direct_modification': True, 'confidence': 1.0}], 'block_numbers': '96, 97, 98, 99, 100, 101'}) (input_keys={'codebase_symbol_explanations', 'block_numbers', 'codebase_summary', 'task', 'general_context', 'specific_context'}), Example({'codebase_summary': '... omitted for brevity ...', 'codebase_symbol_explanations': '... omitted for brevity ...', 'general_context': '... omitted for brevity ...', 'specific_context': '... omitted for brevity ...', 'task': 'make CTRs store only the CID in the Lab field, and move the arity to a global static object in C', 'blocks_to_edit': [{'block_number': 87, 'reasoning': 'This block directly handles the compilation of CTR terms. It currently uses u12v2_new to pack both the CID and arity into the Lab field. We need to modify this to only include the CID in the Lab field and handle the arity separately.', 'requires_direct_modification': True, 'confidence': 0.9}], 'block_numbers': '84, 85, 86, 87, 88, 89'}) (input_keys={'codebase_symbol_explanations', 'block_numbers', 'codebase_summary', 'task', 'general_context', 'specific_context'}), Example({'codebase_summary': '... omitted for brevity ...', 'codebase_symbol_explanations': '... omitted for brevity ...', 'general_context': '... omitted for brevity ...', 'specific_context': '... omitted for brevity ...', 'task': 'make CTRs store only the CID in the Lab field, and move the arity to a global static object in C', 'blocks_to_edit': [{'block_number': 21, 'reasoning': 'This block directly handles CTR terms and currently extracts both CID and arity from the Lab field. It needs to be modified to only extract the CID from Lab and retrieve the arity from the new global static object in C.', 'requires_direct_modification': True, 'confidence': 0.9}, {'block_number': 22, 'reasoning': 'This block handles MAT terms and uses u12v2X to extract information from the Lab field. If the structure of the Lab field is changing for CTR terms, it might also affect how MAT terms are processed. This block may need to be reviewed and potentially modified.', 'requires_direct_modification': False, 'confidence': 0.7}], 'block_numbers': '18, 19, 20, 21, 22, 23'}) (input_keys={'codebase_symbol_explanations', 'block_numbers', 'codebase_summary', 'task', 'general_context', 'specific_context'}), Example({'codebase_summary': '... omitted for brevity ...', 'codebase_symbol_explanations': '... omitted for brevity ...', 'general_context': '... omitted for brevity ...', 'specific_context': '... omitted for brevity ...', 'task': 'make CTRs store only the CID in the Lab field, and move the arity to a global static object in C', 'blocks_to_edit': [], 'block_numbers': '48, 49, 50, 51, 52, 53'}) (input_keys={'codebase_symbol_explanations', 'block_numbers', 'codebase_summary', 'task', 'general_context', 'specific_context'})], [Example({'augmented': True, 'codebase_summary': '... omitted for brevity ...', 'codebase_symbol_explanations': '... omitted for brevity ...', 'general_context': '... omitted for brevity ...', 'specific_context': '... omitted for brevity ...', 'task': 'make CTRs store only the CID in the Lab field, and move the arity to a global static object in C', 'block_numbers': '60, 61, 62, 63, 64, 65', 'task_reflection': \"The task is to modify the representation of constructor terms (CTRs) in the HVM3 codebase. Specifically, we need to change the Lab field of CTRs to store only the Constructor ID (CID), and move the arity information to a global static object in the C code. This change aims to optimize memory usage and potentially improve performance.\\n\\nGiven the blocks provided, there are no direct modifications required for this task. The shown code snippets are related to flattening and collapsing operations, module imports, and general utility functions. These parts of the code don't directly interact with the CTR representation or the Lab field.\\n\\nHowever, it's worth noting that changes to the CTR representation might have indirect effects on other parts of the codebase, including these sections. For example, if the flattening or collapsing operations rely on arity information, they might need to be updated to use the new global static object for arity lookup instead of extracting it from the Lab field.\", 'blocks_to_edit': []}) (input_keys=None), Example({'codebase_summary': '... omitted for brevity ...', 'codebase_symbol_explanations': '... omitted for brevity ...', 'general_context': '... omitted for brevity ...', 'specific_context': '... omitted for brevity ...', 'task': 'make CTRs store only the CID in the Lab field, and move the arity to a global static object in C', 'blocks_to_edit': [{'block_number': 21, 'reasoning': 'This block directly handles CTR terms and currently extracts both CID and arity from the Lab field. It needs to be modified to only extract the CID from Lab and retrieve the arity from the new global static object in C.', 'requires_direct_modification': True, 'confidence': 0.9}, {'block_number': 22, 'reasoning': 'This block handles MAT terms and uses u12v2X to extract information from the Lab field. If the structure of the Lab field is changing for CTR terms, it might also affect how MAT terms are processed. This block may need to be reviewed and potentially modified.', 'requires_direct_modification': False, 'confidence': 0.7}], 'block_numbers': '18, 19, 20, 21, 22, 23'}) (input_keys={'codebase_symbol_explanations', 'block_numbers', 'codebase_summary', 'task', 'general_context', 'specific_context'}), Example({'codebase_summary': '... omitted for brevity ...', 'codebase_symbol_explanations': '... omitted for brevity ...', 'general_context': '... omitted for brevity ...', 'specific_context': '... omitted for brevity ...', 'task': 'make CTRs store only the CID in the Lab field, and move the arity to a global static object in C', 'blocks_to_edit': [{'block_number': 92, 'reasoning': \"This block deals with Ref terms and uses u12v2_new to pack two values into a single 64-bit value. While it's not directly related to CTRs, the pattern is similar and might need adjustment if the CTR representation changes affect how Ref terms are handled.\", 'requires_direct_modification': False, 'confidence': 0.7}, {'block_number': 94, 'reasoning': \"This block contains the core logic for the fast compiler. While it doesn't directly handle CTRs, it might need adjustments to accommodate the new CTR representation, especially if it affects how terms are processed or reduced.\", 'requires_direct_modification': False, 'confidence': 0.6}, {'block_number': 95, 'reasoning': 'Similar to block 94, this block is part of the fast compiler logic. It might need modifications if the changes to CTR representation affect how function arguments or body compilation works.', 'requires_direct_modification': False, 'confidence': 0.6}], 'block_numbers': '90, 91, 92, 93, 94, 95'}) (input_keys={'codebase_symbol_explanations', 'block_numbers', 'codebase_summary', 'task', 'general_context', 'specific_context'}), Example({'codebase_summary': '... omitted for brevity ...', 'codebase_symbol_explanations': '... omitted for brevity ...', 'general_context': '... omitted for brevity ...', 'specific_context': '... omitted for brevity ...', 'task': 'make CTRs store only the CID in the Lab field, and move the arity to a global static object in C', 'blocks_to_edit': [], 'block_numbers': '42, 43, 44, 45, 46, 47'}) (input_keys={'codebase_symbol_explanations', 'block_numbers', 'codebase_summary', 'task', 'general_context', 'specific_context'}), Example({'codebase_summary': '... omitted for brevity ...', 'codebase_symbol_explanations': '... omitted for brevity ...', 'general_context': '... omitted for brevity ...', 'specific_context': '... omitted for brevity ...', 'task': 'make CTRs store only the CID in the Lab field, and move the arity to a global static object in C', 'blocks_to_edit': [], 'block_numbers': '6, 7, 8, 9, 10, 11'}) (input_keys={'codebase_symbol_explanations', 'block_numbers', 'codebase_summary', 'task', 'general_context', 'specific_context'}), Example({'codebase_summary': '... omitted for brevity ...', 'codebase_symbol_explanations': '... omitted for brevity ...', 'general_context': '... omitted for brevity ...', 'specific_context': '... omitted for brevity ...', 'task': 'make CTRs store only the CID in the Lab field, and move the arity to a global static object in C', 'blocks_to_edit': [], 'block_numbers': '0, 1, 2, 3, 4, 5'}) (input_keys={'codebase_symbol_explanations', 'block_numbers', 'codebase_summary', 'task', 'general_context', 'specific_context'})]]}\n",
      "Average Metric: 37.37 / 69 (54.2%): 100%|██████████| 69/69 [00:14<00:00,  4.88it/s]"
     ]
    },
    {
     "name": "stderr",
     "output_type": "stream",
     "text": [
      "2025/01/10 09:36:42 INFO dspy.evaluate.evaluate: Average Metric: 37.36666666666667 / 69 (54.2%)\n",
      "2025/01/10 09:36:42 INFO dspy.teleprompt.mipro_optimizer_v2: Default program score: 54.15\n",
      "\n",
      "2025/01/10 09:36:42 INFO dspy.teleprompt.mipro_optimizer_v2: ==> STEP 3: FINDING OPTIMAL PROMPT PARAMETERS <==\n",
      "2025/01/10 09:36:42 INFO dspy.teleprompt.mipro_optimizer_v2: We will evaluate the program over a series of trials with different combinations of instructions and few-shot examples to find the optimal combination using Bayesian Optimization.\n",
      "\n",
      "2025/01/10 09:36:42 INFO dspy.teleprompt.mipro_optimizer_v2: == Minibatch Trial 1 / 7 ==\n"
     ]
    },
    {
     "name": "stdout",
     "output_type": "stream",
     "text": [
      "\n",
      "Average Metric: 12.92 / 25 (51.7%): 100%|██████████| 25/25 [00:35<00:00,  1.43s/it]"
     ]
    },
    {
     "name": "stderr",
     "output_type": "stream",
     "text": [
      "2025/01/10 09:37:18 INFO dspy.evaluate.evaluate: Average Metric: 12.916666666666666 / 25 (51.7%)\n",
      "2025/01/10 09:37:18 INFO dspy.teleprompt.mipro_optimizer_v2: Score: 51.67 on minibatch of size 25 with parameters ['Predictor 0: Instruction 1', 'Predictor 0: Few-Shot Set 1'].\n",
      "2025/01/10 09:37:18 INFO dspy.teleprompt.mipro_optimizer_v2: Minibatch scores so far: [51.67]\n",
      "2025/01/10 09:37:18 INFO dspy.teleprompt.mipro_optimizer_v2: Full eval scores so far: [54.15]\n",
      "2025/01/10 09:37:18 INFO dspy.teleprompt.mipro_optimizer_v2: Best full score so far: 54.15\n",
      "2025/01/10 09:37:18 INFO dspy.teleprompt.mipro_optimizer_v2: ===========================\n",
      "\n",
      "\n",
      "2025/01/10 09:37:18 INFO dspy.teleprompt.mipro_optimizer_v2: == Minibatch Trial 2 / 7 ==\n"
     ]
    },
    {
     "name": "stdout",
     "output_type": "stream",
     "text": [
      "\n",
      "Average Metric: 17.95 / 25 (71.8%): 100%|██████████| 25/25 [00:23<00:00,  1.07it/s]"
     ]
    },
    {
     "name": "stderr",
     "output_type": "stream",
     "text": [
      "2025/01/10 09:37:41 INFO dspy.evaluate.evaluate: Average Metric: 17.95 / 25 (71.8%)\n",
      "2025/01/10 09:37:41 INFO dspy.teleprompt.mipro_optimizer_v2: Score: 71.8 on minibatch of size 25 with parameters ['Predictor 0: Instruction 2', 'Predictor 0: Few-Shot Set 1'].\n",
      "2025/01/10 09:37:41 INFO dspy.teleprompt.mipro_optimizer_v2: Minibatch scores so far: [51.67, 71.8]\n",
      "2025/01/10 09:37:41 INFO dspy.teleprompt.mipro_optimizer_v2: Full eval scores so far: [54.15]\n",
      "2025/01/10 09:37:41 INFO dspy.teleprompt.mipro_optimizer_v2: Best full score so far: 54.15\n",
      "2025/01/10 09:37:41 INFO dspy.teleprompt.mipro_optimizer_v2: ===========================\n",
      "\n",
      "\n",
      "2025/01/10 09:37:41 INFO dspy.teleprompt.mipro_optimizer_v2: == Minibatch Trial 3 / 7 ==\n"
     ]
    },
    {
     "name": "stdout",
     "output_type": "stream",
     "text": [
      "\n",
      "Average Metric: 16.33 / 25 (65.3%): 100%|██████████| 25/25 [00:21<00:00,  1.15it/s]"
     ]
    },
    {
     "name": "stderr",
     "output_type": "stream",
     "text": [
      "2025/01/10 09:38:03 INFO dspy.evaluate.evaluate: Average Metric: 16.333333333333332 / 25 (65.3%)\n",
      "2025/01/10 09:38:03 INFO dspy.teleprompt.mipro_optimizer_v2: Score: 65.33 on minibatch of size 25 with parameters ['Predictor 0: Instruction 4', 'Predictor 0: Few-Shot Set 1'].\n",
      "2025/01/10 09:38:03 INFO dspy.teleprompt.mipro_optimizer_v2: Minibatch scores so far: [51.67, 71.8, 65.33]\n",
      "2025/01/10 09:38:03 INFO dspy.teleprompt.mipro_optimizer_v2: Full eval scores so far: [54.15]\n",
      "2025/01/10 09:38:03 INFO dspy.teleprompt.mipro_optimizer_v2: Best full score so far: 54.15\n",
      "2025/01/10 09:38:03 INFO dspy.teleprompt.mipro_optimizer_v2: ===========================\n",
      "\n",
      "\n",
      "2025/01/10 09:38:03 INFO dspy.teleprompt.mipro_optimizer_v2: == Minibatch Trial 4 / 7 ==\n"
     ]
    },
    {
     "name": "stdout",
     "output_type": "stream",
     "text": [
      "\n",
      "Average Metric: 17.83 / 25 (71.3%): 100%|██████████| 25/25 [00:10<00:00,  2.43it/s]"
     ]
    },
    {
     "name": "stderr",
     "output_type": "stream",
     "text": [
      "2025/01/10 09:38:13 INFO dspy.evaluate.evaluate: Average Metric: 17.833333333333332 / 25 (71.3%)\n",
      "2025/01/10 09:38:13 INFO dspy.teleprompt.mipro_optimizer_v2: Score: 71.33 on minibatch of size 25 with parameters ['Predictor 0: Instruction 2', 'Predictor 0: Few-Shot Set 1'].\n",
      "2025/01/10 09:38:13 INFO dspy.teleprompt.mipro_optimizer_v2: Minibatch scores so far: [51.67, 71.8, 65.33, 71.33]\n",
      "2025/01/10 09:38:13 INFO dspy.teleprompt.mipro_optimizer_v2: Full eval scores so far: [54.15]\n",
      "2025/01/10 09:38:13 INFO dspy.teleprompt.mipro_optimizer_v2: Best full score so far: 54.15\n",
      "2025/01/10 09:38:13 INFO dspy.teleprompt.mipro_optimizer_v2: ===========================\n",
      "\n",
      "\n",
      "2025/01/10 09:38:13 INFO dspy.teleprompt.mipro_optimizer_v2: == Minibatch Trial 5 / 7 ==\n"
     ]
    },
    {
     "name": "stdout",
     "output_type": "stream",
     "text": [
      "\n",
      "Average Metric: 11.00 / 25 (44.0%): 100%|██████████| 25/25 [00:15<00:00,  1.60it/s]"
     ]
    },
    {
     "name": "stderr",
     "output_type": "stream",
     "text": [
      "2025/01/10 09:38:29 INFO dspy.evaluate.evaluate: Average Metric: 11.0 / 25 (44.0%)\n",
      "2025/01/10 09:38:29 INFO dspy.teleprompt.mipro_optimizer_v2: Score: 44.0 on minibatch of size 25 with parameters ['Predictor 0: Instruction 4', 'Predictor 0: Few-Shot Set 3'].\n",
      "2025/01/10 09:38:29 INFO dspy.teleprompt.mipro_optimizer_v2: Minibatch scores so far: [51.67, 71.8, 65.33, 71.33, 44.0]\n",
      "2025/01/10 09:38:29 INFO dspy.teleprompt.mipro_optimizer_v2: Full eval scores so far: [54.15]\n",
      "2025/01/10 09:38:29 INFO dspy.teleprompt.mipro_optimizer_v2: Best full score so far: 54.15\n",
      "2025/01/10 09:38:29 INFO dspy.teleprompt.mipro_optimizer_v2: ===========================\n",
      "\n",
      "\n",
      "2025/01/10 09:38:29 INFO dspy.teleprompt.mipro_optimizer_v2: == Minibatch Trial 6 / 7 ==\n"
     ]
    },
    {
     "name": "stdout",
     "output_type": "stream",
     "text": [
      "\n",
      "Average Metric: 14.17 / 25 (56.7%): 100%|██████████| 25/25 [00:16<00:00,  1.51it/s]"
     ]
    },
    {
     "name": "stderr",
     "output_type": "stream",
     "text": [
      "2025/01/10 09:38:46 INFO dspy.evaluate.evaluate: Average Metric: 14.166666666666666 / 25 (56.7%)\n",
      "2025/01/10 09:38:46 INFO dspy.teleprompt.mipro_optimizer_v2: Score: 56.67 on minibatch of size 25 with parameters ['Predictor 0: Instruction 0', 'Predictor 0: Few-Shot Set 1'].\n",
      "2025/01/10 09:38:46 INFO dspy.teleprompt.mipro_optimizer_v2: Minibatch scores so far: [51.67, 71.8, 65.33, 71.33, 44.0, 56.67]\n",
      "2025/01/10 09:38:46 INFO dspy.teleprompt.mipro_optimizer_v2: Full eval scores so far: [54.15]\n",
      "2025/01/10 09:38:46 INFO dspy.teleprompt.mipro_optimizer_v2: Best full score so far: 54.15\n",
      "2025/01/10 09:38:46 INFO dspy.teleprompt.mipro_optimizer_v2: ===========================\n",
      "\n",
      "\n",
      "2025/01/10 09:38:46 INFO dspy.teleprompt.mipro_optimizer_v2: == Minibatch Trial 7 / 7 ==\n"
     ]
    },
    {
     "name": "stdout",
     "output_type": "stream",
     "text": [
      "\n",
      "Average Metric: 18.83 / 25 (75.3%): 100%|██████████| 25/25 [00:12<00:00,  2.01it/s]"
     ]
    },
    {
     "name": "stderr",
     "output_type": "stream",
     "text": [
      "2025/01/10 09:38:58 INFO dspy.evaluate.evaluate: Average Metric: 18.833333333333332 / 25 (75.3%)\n",
      "2025/01/10 09:38:58 INFO dspy.teleprompt.mipro_optimizer_v2: Score: 75.33 on minibatch of size 25 with parameters ['Predictor 0: Instruction 4', 'Predictor 0: Few-Shot Set 4'].\n",
      "2025/01/10 09:38:58 INFO dspy.teleprompt.mipro_optimizer_v2: Minibatch scores so far: [51.67, 71.8, 65.33, 71.33, 44.0, 56.67, 75.33]\n",
      "2025/01/10 09:38:58 INFO dspy.teleprompt.mipro_optimizer_v2: Full eval scores so far: [54.15]\n",
      "2025/01/10 09:38:58 INFO dspy.teleprompt.mipro_optimizer_v2: Best full score so far: 54.15\n",
      "2025/01/10 09:38:58 INFO dspy.teleprompt.mipro_optimizer_v2: ===========================\n",
      "\n",
      "\n",
      "2025/01/10 09:38:58 INFO dspy.teleprompt.mipro_optimizer_v2: ===== Full Eval 1 =====\n",
      "2025/01/10 09:38:58 INFO dspy.teleprompt.mipro_optimizer_v2: Doing full eval on next top averaging program (Avg Score: 75.33) from minibatch trials...\n"
     ]
    },
    {
     "name": "stdout",
     "output_type": "stream",
     "text": [
      "\n",
      "Average Metric: 44.67 / 69 (64.7%): 100%|██████████| 69/69 [00:21<00:00,  3.28it/s]"
     ]
    },
    {
     "name": "stderr",
     "output_type": "stream",
     "text": [
      "2025/01/10 09:39:19 INFO dspy.evaluate.evaluate: Average Metric: 44.666666666666664 / 69 (64.7%)\n",
      "2025/01/10 09:39:19 INFO dspy.teleprompt.mipro_optimizer_v2: \u001b[92mNew best full eval score!\u001b[0m Score: 64.73\n",
      "2025/01/10 09:39:19 INFO dspy.teleprompt.mipro_optimizer_v2: Full eval scores so far: [54.15, 64.73]\n",
      "2025/01/10 09:39:19 INFO dspy.teleprompt.mipro_optimizer_v2: Best full score so far: 64.73\n",
      "2025/01/10 09:39:19 INFO dspy.teleprompt.mipro_optimizer_v2: =======================\n",
      "2025/01/10 09:39:19 INFO dspy.teleprompt.mipro_optimizer_v2: \n",
      "\n",
      "2025/01/10 09:39:19 INFO dspy.teleprompt.mipro_optimizer_v2: Returning best identified program with score 64.73!\n"
     ]
    },
    {
     "name": "stdout",
     "output_type": "stream",
     "text": [
      "\n"
     ]
    }
   ],
   "source": [
    "from src.prompts.classify_blocks import optimize\n",
    "from src.llms import gemini_8b, deepseek_chat, claude_sonnet, gpt_4o\n",
    "\n",
    "optimize(examples, gemini_8b, gpt_4o, claude_sonnet)\n"
   ]
  }
 ],
 "metadata": {
  "kernelspec": {
   "display_name": "env",
   "language": "python",
   "name": "python3"
  },
  "language_info": {
   "codemirror_mode": {
    "name": "ipython",
    "version": 3
   },
   "file_extension": ".py",
   "mimetype": "text/x-python",
   "name": "python",
   "nbconvert_exporter": "python",
   "pygments_lexer": "ipython3",
   "version": "3.12.3"
  }
 },
 "nbformat": 4,
 "nbformat_minor": 2
}
